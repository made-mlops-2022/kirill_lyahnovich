{
 "cells": [
  {
   "cell_type": "code",
   "execution_count": 2,
   "id": "609ef239-624e-4ae0-a45d-26fef3c05a0a",
   "metadata": {},
   "outputs": [
    {
     "ename": "NameError",
     "evalue": "name 'random' is not defined",
     "output_type": "error",
     "traceback": [
      "\u001b[0;31m---------------------------------------------------------------------------\u001b[0m",
      "\u001b[0;31mNameError\u001b[0m                                 Traceback (most recent call last)",
      "Cell \u001b[0;32mIn [2], line 12\u001b[0m\n\u001b[1;32m      8\u001b[0m warnings\u001b[38;5;241m.\u001b[39mfilterwarnings(\u001b[38;5;124m\"\u001b[39m\u001b[38;5;124mignore\u001b[39m\u001b[38;5;124m\"\u001b[39m)\n\u001b[1;32m     11\u001b[0m seed \u001b[38;5;241m=\u001b[39m \u001b[38;5;241m42\u001b[39m\n\u001b[0;32m---> 12\u001b[0m \u001b[43mrandom\u001b[49m\u001b[38;5;241m.\u001b[39mseed(seed)\n\u001b[1;32m     13\u001b[0m np\u001b[38;5;241m.\u001b[39mrandom\u001b[38;5;241m.\u001b[39mseed(seed)\n\u001b[1;32m     14\u001b[0m os\u001b[38;5;241m.\u001b[39menviron[\u001b[38;5;124m\"\u001b[39m\u001b[38;5;124mPYTHONHASHSEED\u001b[39m\u001b[38;5;124m\"\u001b[39m] \u001b[38;5;241m=\u001b[39m \u001b[38;5;28mstr\u001b[39m(seed)\n",
      "\u001b[0;31mNameError\u001b[0m: name 'random' is not defined"
     ]
    }
   ],
   "source": [
    "import time\n",
    "import warnings\n",
    "\n",
    "import matplotlib.pyplot as plt\n",
    "import numpy as np\n",
    "import pandas as pd\n",
    "from dataclasses import dataclass\n",
    "warnings.filterwarnings(\"ignore\")\n",
    "\n",
    "\n",
    "seed = 42\n",
    "random.seed(seed)\n",
    "np.random.seed(seed)\n",
    "os.environ[\"PYTHONHASHSEED\"] = str(seed)"
   ]
  },
  {
   "cell_type": "markdown",
   "id": "05c58cb9-daa4-43a7-9c52-b2fbc7904a85",
   "metadata": {},
   "source": [
    "## Config"
   ]
  },
  {
   "cell_type": "code",
   "execution_count": 21,
   "id": "ca7f5b73-69cf-4e00-b06d-0fa171ed5dd5",
   "metadata": {},
   "outputs": [],
   "source": [
    "DATASET_PATH = \"../data/raw/heart_cleveland_upload.csv\"\n",
    "TARGET_NAME = \"condition\""
   ]
  },
  {
   "cell_type": "markdown",
   "id": "39024dbc-6d28-4d3f-bf2f-acb3a54a584c",
   "metadata": {},
   "source": [
    "# Load data"
   ]
  },
  {
   "cell_type": "code",
   "execution_count": 22,
   "id": "53f63d59-a71c-4f41-bffc-734f641812cf",
   "metadata": {},
   "outputs": [],
   "source": [
    "train = pd.read_csv(DATASET_PATH)"
   ]
  },
  {
   "cell_type": "code",
   "execution_count": 23,
   "id": "9fdf0695-e6d3-4506-8e70-784bd3958882",
   "metadata": {},
   "outputs": [],
   "source": [
    "X = train.drop(TARGET_NAME, axis=1)\n",
    "y = train[TARGET_NAME]"
   ]
  },
  {
   "cell_type": "code",
   "execution_count": 58,
   "id": "6ea69b73-c62a-4335-83a5-418191c33c47",
   "metadata": {},
   "outputs": [],
   "source": [
    "from sklearn.covariance import EllipticEnvelope\n",
    "from sklearn.decomposition import PCA\n",
    "from sklearn.ensemble import (\n",
    "    AdaBoostClassifier,\n",
    "    GradientBoostingClassifier,\n",
    "    IsolationForest,\n",
    "    RandomForestClassifier,\n",
    ")\n",
    "from sklearn.metrics import plot_confusion_matrix\n",
    "from sklearn.model_selection import (\n",
    "    KFold,\n",
    "    RandomizedSearchCV,\n",
    "    cross_val_score,\n",
    "    cross_validate,\n",
    "    learning_curve,\n",
    "    train_test_split,\n",
    ")\n",
    "from sklearn.naive_bayes import GaussianNB\n",
    "from sklearn.neighbors import KNeighborsClassifier\n",
    "from sklearn.neural_network import MLPClassifier\n",
    "from sklearn.preprocessing import KBinsDiscretizer\n",
    "from sklearn.svm import SVC\n",
    "from sklearn.tree import DecisionTreeClassifier"
   ]
  },
  {
   "cell_type": "code",
   "execution_count": 59,
   "id": "678ddb6b-6ec6-47ad-bd63-f7780d40909d",
   "metadata": {},
   "outputs": [],
   "source": [
    "gradclass = GradientBoostingClassifier(random_state=seed)\n",
    "knclass = KNeighborsClassifier()\n",
    "dectree = DecisionTreeClassifier(random_state=seed)\n",
    "svc = SVC()\n",
    "randfclass = RandomForestClassifier(random_state=seed)\n",
    "adaclass = AdaBoostClassifier(random_state=seed)\n",
    "mlpclass = MLPClassifier(random_state=seed)\n",
    "gsclass = GaussianNB()"
   ]
  },
  {
   "cell_type": "code",
   "execution_count": 60,
   "id": "1b782756-f001-47a8-a64b-506bc094e1a8",
   "metadata": {},
   "outputs": [],
   "source": [
    "cv = KFold(5, shuffle=True, random_state=seed)\n",
    "classifiers = [\n",
    "    gradclass,\n",
    "    knclass,\n",
    "    dectree,\n",
    "    svc,\n",
    "    randfclass,\n",
    "    adaclass,\n",
    "    mlpclass,\n",
    "    gsclass,\n",
    "]"
   ]
  },
  {
   "cell_type": "code",
   "execution_count": 1,
   "id": "a75d2d8f-2853-4710-85ff-8dea2cf1219a",
   "metadata": {},
   "outputs": [
    {
     "name": "stdout",
     "output_type": "stream",
     "text": [
      "Requirement already satisfied: dataclasses in /opt/conda/lib/python3.10/site-packages (0.6)\n"
     ]
    }
   ],
   "source": [
    "!pip install dataclasses"
   ]
  },
  {
   "cell_type": "code",
   "execution_count": 13,
   "id": "bff702d4-e516-4bcc-a335-b42c0e9d52aa",
   "metadata": {},
   "outputs": [],
   "source": [
    "# @dataclass()\n",
    "# class TrainingPipelineParams:\n",
    "#     input_data_path: str\n",
    "#     output_model_path: str\n",
    "#     metric_path: str\n",
    "#     splitting_params: SplittingParams\n",
    "#     feature_params: FeatureParams\n",
    "#     train_params: TrainingParams\n",
    "#     downloading_params: Optional[DownloadParams] = None\n",
    "#     use_mlflow: bool = False\n",
    "#     mlflow_uri: str = \"http://18.156.5.226/\"\n",
    "#     mlflow_experiment: str = \"inference_demo\"\n",
    "\n",
    "@dataclass()\n",
    "class LR_Params:\n",
    "    a: list\n",
    "    b: list\n",
    "    \n",
    "@dataclass()\n",
    "class Params:\n",
    "    a: int\n",
    "    b: str\n",
    "    lr: LR_Params\n"
   ]
  },
  {
   "cell_type": "code",
   "execution_count": 14,
   "id": "e5ee6113-e8ed-4aac-9612-713fa98dcf3c",
   "metadata": {},
   "outputs": [],
   "source": [
    "p = Params(\n",
    "    1,\n",
    "    '3',\n",
    "    LR_Params(\n",
    "        [1,44,5],\n",
    "        [\"a\",\"b\"]\n",
    "    )\n",
    ")"
   ]
  },
  {
   "cell_type": "code",
   "execution_count": 15,
   "id": "65a93d19-33c0-4fd2-ba90-81c57a358cf4",
   "metadata": {},
   "outputs": [
    {
     "data": {
      "text/plain": [
       "{'a': 1, 'b': '3', 'lr': LR_Params(a=[1, 44, 5], b=['a', 'b'])}"
      ]
     },
     "execution_count": 15,
     "metadata": {},
     "output_type": "execute_result"
    }
   ],
   "source": [
    "p.__dict__"
   ]
  },
  {
   "cell_type": "code",
   "execution_count": 10,
   "id": "d11aadfd-32f6-4c8d-bc00-a7ea9ad601c9",
   "metadata": {},
   "outputs": [
    {
     "data": {
      "text/plain": [
       "['__annotations__',\n",
       " '__class__',\n",
       " '__dataclass_fields__',\n",
       " '__dataclass_params__',\n",
       " '__delattr__',\n",
       " '__dict__',\n",
       " '__dir__',\n",
       " '__doc__',\n",
       " '__eq__',\n",
       " '__format__',\n",
       " '__ge__',\n",
       " '__getattribute__',\n",
       " '__gt__',\n",
       " '__hash__',\n",
       " '__init__',\n",
       " '__init_subclass__',\n",
       " '__le__',\n",
       " '__lt__',\n",
       " '__match_args__',\n",
       " '__module__',\n",
       " '__ne__',\n",
       " '__new__',\n",
       " '__reduce__',\n",
       " '__reduce_ex__',\n",
       " '__repr__',\n",
       " '__setattr__',\n",
       " '__sizeof__',\n",
       " '__str__',\n",
       " '__subclasshook__',\n",
       " '__weakref__',\n",
       " 'a',\n",
       " 'b',\n",
       " 'c',\n",
       " 'e']"
      ]
     },
     "execution_count": 10,
     "metadata": {},
     "output_type": "execute_result"
    }
   ],
   "source": [
    "dir(p)"
   ]
  },
  {
   "cell_type": "code",
   "execution_count": 61,
   "id": "2d046e37-e9d2-4bff-a2dc-40a149d6c554",
   "metadata": {},
   "outputs": [],
   "source": [
    "def model_check(X, y, classifiers, cv):\n",
    "\n",
    "    \"\"\"A function for testing multiple classifiers and return several metrics.\"\"\"\n",
    "\n",
    "    model_table = pd.DataFrame()\n",
    "\n",
    "    row_index = 0\n",
    "    for cls in classifiers:\n",
    "\n",
    "        MLA_name = cls.__class__.__name__\n",
    "        model_table.loc[row_index, \"Model Name\"] = MLA_name\n",
    "\n",
    "        cv_results = cross_validate(\n",
    "            cls,\n",
    "            X,\n",
    "            y,\n",
    "            cv=cv,\n",
    "            scoring=(\"accuracy\", \"f1\", \"roc_auc\"),\n",
    "            return_train_score=True,\n",
    "            n_jobs=-1,\n",
    "        )\n",
    "        model_table.loc[row_index, \"Train Roc/AUC Mean\"] = cv_results[\n",
    "            \"train_roc_auc\"\n",
    "        ].mean()\n",
    "        model_table.loc[row_index, \"Test Roc/AUC Mean\"] = cv_results[\n",
    "            \"test_roc_auc\"\n",
    "        ].mean()\n",
    "        model_table.loc[row_index, \"Test Roc/AUC Std\"] = cv_results[\n",
    "            \"test_roc_auc\"\n",
    "        ].std()\n",
    "        model_table.loc[row_index, \"Train Accuracy Mean\"] = cv_results[\n",
    "            \"train_accuracy\"\n",
    "        ].mean()\n",
    "        model_table.loc[row_index, \"Test Accuracy Mean\"] = cv_results[\n",
    "            \"test_accuracy\"\n",
    "        ].mean()\n",
    "        model_table.loc[row_index, \"Test Acc Std\"] = cv_results[\"test_accuracy\"].std()\n",
    "        model_table.loc[row_index, \"Train F1 Mean\"] = cv_results[\"train_f1\"].mean()\n",
    "        model_table.loc[row_index, \"Test F1 Mean\"] = cv_results[\"test_f1\"].mean()\n",
    "        model_table.loc[row_index, \"Test F1 Std\"] = cv_results[\"test_f1\"].std()\n",
    "        model_table.loc[row_index, \"Time\"] = cv_results[\"fit_time\"].mean()\n",
    "\n",
    "        row_index += 1\n",
    "\n",
    "    model_table.sort_values(by=[\"Test F1 Mean\"], ascending=False, inplace=True)\n",
    "\n",
    "    return model_table"
   ]
  },
  {
   "cell_type": "code",
   "execution_count": 62,
   "id": "e73b8ec8-2271-4055-adc1-bb31d716fe9d",
   "metadata": {},
   "outputs": [
    {
     "data": {
      "text/html": [
       "<div>\n",
       "<style scoped>\n",
       "    .dataframe tbody tr th:only-of-type {\n",
       "        vertical-align: middle;\n",
       "    }\n",
       "\n",
       "    .dataframe tbody tr th {\n",
       "        vertical-align: top;\n",
       "    }\n",
       "\n",
       "    .dataframe thead th {\n",
       "        text-align: right;\n",
       "    }\n",
       "</style>\n",
       "<table border=\"1\" class=\"dataframe\">\n",
       "  <thead>\n",
       "    <tr style=\"text-align: right;\">\n",
       "      <th></th>\n",
       "      <th>Model Name</th>\n",
       "      <th>Train Roc/AUC Mean</th>\n",
       "      <th>Test Roc/AUC Mean</th>\n",
       "      <th>Test Roc/AUC Std</th>\n",
       "      <th>Train Accuracy Mean</th>\n",
       "      <th>Test Accuracy Mean</th>\n",
       "      <th>Test Acc Std</th>\n",
       "      <th>Train F1 Mean</th>\n",
       "      <th>Test F1 Mean</th>\n",
       "      <th>Test F1 Std</th>\n",
       "      <th>Time</th>\n",
       "    </tr>\n",
       "  </thead>\n",
       "  <tbody>\n",
       "    <tr>\n",
       "      <th>7</th>\n",
       "      <td>GaussianNB</td>\n",
       "      <td>0.911066</td>\n",
       "      <td>0.904411</td>\n",
       "      <td>0.035803</td>\n",
       "      <td>0.856909</td>\n",
       "      <td>0.838418</td>\n",
       "      <td>0.053549</td>\n",
       "      <td>0.839788</td>\n",
       "      <td>0.825296</td>\n",
       "      <td>0.054897</td>\n",
       "      <td>0.004890</td>\n",
       "    </tr>\n",
       "    <tr>\n",
       "      <th>6</th>\n",
       "      <td>MLPClassifier</td>\n",
       "      <td>0.927190</td>\n",
       "      <td>0.902206</td>\n",
       "      <td>0.058272</td>\n",
       "      <td>0.850190</td>\n",
       "      <td>0.828475</td>\n",
       "      <td>0.069370</td>\n",
       "      <td>0.828321</td>\n",
       "      <td>0.817971</td>\n",
       "      <td>0.054025</td>\n",
       "      <td>0.756070</td>\n",
       "    </tr>\n",
       "    <tr>\n",
       "      <th>4</th>\n",
       "      <td>RandomForestClassifier</td>\n",
       "      <td>1.000000</td>\n",
       "      <td>0.905921</td>\n",
       "      <td>0.039319</td>\n",
       "      <td>1.000000</td>\n",
       "      <td>0.831808</td>\n",
       "      <td>0.058496</td>\n",
       "      <td>1.000000</td>\n",
       "      <td>0.811806</td>\n",
       "      <td>0.055205</td>\n",
       "      <td>0.628063</td>\n",
       "    </tr>\n",
       "    <tr>\n",
       "      <th>0</th>\n",
       "      <td>GradientBoostingClassifier</td>\n",
       "      <td>0.999957</td>\n",
       "      <td>0.885011</td>\n",
       "      <td>0.055375</td>\n",
       "      <td>0.995791</td>\n",
       "      <td>0.801299</td>\n",
       "      <td>0.052370</td>\n",
       "      <td>0.995487</td>\n",
       "      <td>0.780407</td>\n",
       "      <td>0.050809</td>\n",
       "      <td>0.461711</td>\n",
       "    </tr>\n",
       "    <tr>\n",
       "      <th>5</th>\n",
       "      <td>AdaBoostClassifier</td>\n",
       "      <td>0.986853</td>\n",
       "      <td>0.867675</td>\n",
       "      <td>0.071706</td>\n",
       "      <td>0.931826</td>\n",
       "      <td>0.784407</td>\n",
       "      <td>0.068264</td>\n",
       "      <td>0.925483</td>\n",
       "      <td>0.761896</td>\n",
       "      <td>0.071321</td>\n",
       "      <td>0.400489</td>\n",
       "    </tr>\n",
       "    <tr>\n",
       "      <th>2</th>\n",
       "      <td>DecisionTreeClassifier</td>\n",
       "      <td>1.000000</td>\n",
       "      <td>0.760465</td>\n",
       "      <td>0.062587</td>\n",
       "      <td>1.000000</td>\n",
       "      <td>0.760621</td>\n",
       "      <td>0.063644</td>\n",
       "      <td>1.000000</td>\n",
       "      <td>0.735606</td>\n",
       "      <td>0.066903</td>\n",
       "      <td>0.005708</td>\n",
       "    </tr>\n",
       "    <tr>\n",
       "      <th>1</th>\n",
       "      <td>KNeighborsClassifier</td>\n",
       "      <td>0.847873</td>\n",
       "      <td>0.685415</td>\n",
       "      <td>0.058528</td>\n",
       "      <td>0.772701</td>\n",
       "      <td>0.646780</td>\n",
       "      <td>0.058285</td>\n",
       "      <td>0.747835</td>\n",
       "      <td>0.596281</td>\n",
       "      <td>0.068546</td>\n",
       "      <td>0.002924</td>\n",
       "    </tr>\n",
       "    <tr>\n",
       "      <th>3</th>\n",
       "      <td>SVC</td>\n",
       "      <td>0.763246</td>\n",
       "      <td>0.738365</td>\n",
       "      <td>0.078969</td>\n",
       "      <td>0.679293</td>\n",
       "      <td>0.656723</td>\n",
       "      <td>0.046699</td>\n",
       "      <td>0.581585</td>\n",
       "      <td>0.550965</td>\n",
       "      <td>0.057644</td>\n",
       "      <td>0.007954</td>\n",
       "    </tr>\n",
       "  </tbody>\n",
       "</table>\n",
       "</div>"
      ],
      "text/plain": [
       "                   Model Name  Train Roc/AUC Mean  Test Roc/AUC Mean  \\\n",
       "7                  GaussianNB            0.911066           0.904411   \n",
       "6               MLPClassifier            0.927190           0.902206   \n",
       "4      RandomForestClassifier            1.000000           0.905921   \n",
       "0  GradientBoostingClassifier            0.999957           0.885011   \n",
       "5          AdaBoostClassifier            0.986853           0.867675   \n",
       "2      DecisionTreeClassifier            1.000000           0.760465   \n",
       "1        KNeighborsClassifier            0.847873           0.685415   \n",
       "3                         SVC            0.763246           0.738365   \n",
       "\n",
       "   Test Roc/AUC Std  Train Accuracy Mean  Test Accuracy Mean  Test Acc Std  \\\n",
       "7          0.035803             0.856909            0.838418      0.053549   \n",
       "6          0.058272             0.850190            0.828475      0.069370   \n",
       "4          0.039319             1.000000            0.831808      0.058496   \n",
       "0          0.055375             0.995791            0.801299      0.052370   \n",
       "5          0.071706             0.931826            0.784407      0.068264   \n",
       "2          0.062587             1.000000            0.760621      0.063644   \n",
       "1          0.058528             0.772701            0.646780      0.058285   \n",
       "3          0.078969             0.679293            0.656723      0.046699   \n",
       "\n",
       "   Train F1 Mean  Test F1 Mean  Test F1 Std      Time  \n",
       "7       0.839788      0.825296     0.054897  0.004890  \n",
       "6       0.828321      0.817971     0.054025  0.756070  \n",
       "4       1.000000      0.811806     0.055205  0.628063  \n",
       "0       0.995487      0.780407     0.050809  0.461711  \n",
       "5       0.925483      0.761896     0.071321  0.400489  \n",
       "2       1.000000      0.735606     0.066903  0.005708  \n",
       "1       0.747835      0.596281     0.068546  0.002924  \n",
       "3       0.581585      0.550965     0.057644  0.007954  "
      ]
     },
     "metadata": {},
     "output_type": "display_data"
    }
   ],
   "source": [
    "raw_models = model_check(X, y, classifiers, cv)\n",
    "display(raw_models)"
   ]
  },
  {
   "cell_type": "markdown",
   "id": "baabc5e0-5c78-4787-b020-dcd931f5d4d2",
   "metadata": {},
   "source": [
    "## Finetuning"
   ]
  },
  {
   "cell_type": "code",
   "execution_count": 32,
   "id": "8a7c5a01-998d-4a79-aeac-8f9b2dc6fe69",
   "metadata": {},
   "outputs": [],
   "source": [
    "def hyperparameter_tune(base_model, parameters, n_iter, cv, X, y):\n",
    "\n",
    "    \"\"\"A function for optimizing mutliple classifiers\"\"\"\n",
    "\n",
    "    start_time = time.time()\n",
    "    optimal_model = RandomizedSearchCV(\n",
    "        base_model,\n",
    "        param_distributions=parameters,\n",
    "        n_iter=n_iter,\n",
    "        cv=cv,\n",
    "        scoring=\"f1\",\n",
    "        n_jobs=-1,\n",
    "        random_state=seed,\n",
    "    )\n",
    "\n",
    "    optimal_model.fit(X, y)\n",
    "\n",
    "    scores = cross_val_score(optimal_model, X, y, cv=cv, n_jobs=-1, scoring=\"f1\")\n",
    "    stop_time = time.time()\n",
    "\n",
    "    print(\"====================\")\n",
    "    print(f\"Updated Parameters for {str(base_model.__class__.__name__)}\")\n",
    "    print(\n",
    "        \"Cross Val Mean: {:.3f}, Cross Val Stdev: {:.3f}\".format(\n",
    "            scores.mean(), scores.std()\n",
    "        )\n",
    "    )\n",
    "    print(\"Best Score: {:.3f}\".format(optimal_model.best_score_))\n",
    "    print(\"Best Parameters: {}\".format(optimal_model.best_params_))\n",
    "    print(\n",
    "        \"Elapsed Time:\", time.strftime(\"%H:%M:%S\", time.gmtime(stop_time - start_time))\n",
    "    )\n",
    "    print(\"====================\")\n",
    "\n",
    "    return optimal_model.best_params_, optimal_model.best_score_\n",
    "\n",
    "\n",
    "def fine_tune_models(models=[randfclass, svc, adaclass]):\n",
    "    best_models, best_scores = [], []\n",
    "    # fine tuning models\n",
    "    for model in models:\n",
    "        if model == svc:\n",
    "            parameters = {\n",
    "                \"C\": [1, 3, 9, 27],\n",
    "                \"tol\": [1e-2, 1e-3, 1e-4],\n",
    "                \"kernel\": [\"linear\", \"rbf\", \"sigmoid\"],\n",
    "                \"shrinking\": [True, False],\n",
    "            }\n",
    "        if model == randfclass:\n",
    "            parameters = {\n",
    "                \"max_depth\": [2, 3, 5],\n",
    "                \"n_estimators\": [50, 100, 150],\n",
    "                \"criterion\": [\"gini\", \"entropy\"],\n",
    "                \"bootstrap\": [True, False],\n",
    "            }\n",
    "        if model == adaclass:\n",
    "            parameters = {\n",
    "                \"base_estimator\": [None, dectree],\n",
    "                \"n_estimators\": [50, 100, 150],\n",
    "                \"algorithm\": [\"SAMME\", \"SAMME.R\"],\n",
    "                \"learning_rate\": [0.8, 1, 1.2],\n",
    "            }\n",
    "        best_params, best_score = hyperparameter_tune(\n",
    "            model, parameters, 20, cv, X, y\n",
    "        )\n",
    "        model.set_params(**best_params)\n",
    "        best_models.append(model)\n",
    "        best_scores.append(best_score)\n",
    "    return best_models, best_scores"
   ]
  },
  {
   "cell_type": "code",
   "execution_count": 34,
   "id": "7ba87d85-71ce-490a-af1b-fc14c3b6ddbb",
   "metadata": {},
   "outputs": [
    {
     "name": "stdout",
     "output_type": "stream",
     "text": [
      "====================\n",
      "Updated Parameters for RandomForestClassifier\n",
      "Cross Val Mean: 0.803, Cross Val Stdev: 0.058\n",
      "Best Score: 0.827\n",
      "Best Parameters: {'n_estimators': 100, 'max_depth': 5, 'criterion': 'entropy', 'bootstrap': False}\n",
      "Elapsed Time: 00:02:20\n",
      "====================\n",
      "====================\n",
      "Updated Parameters for SVC\n",
      "Cross Val Mean: 0.821, Cross Val Stdev: 0.052\n",
      "Best Score: 0.825\n",
      "Best Parameters: {'tol': 0.001, 'shrinking': False, 'kernel': 'linear', 'C': 1}\n",
      "Elapsed Time: 00:04:48\n",
      "====================\n",
      "====================\n",
      "Updated Parameters for AdaBoostClassifier\n",
      "Cross Val Mean: 0.820, Cross Val Stdev: 0.050\n",
      "Best Score: 0.820\n",
      "Best Parameters: {'n_estimators': 50, 'learning_rate': 0.8, 'base_estimator': None, 'algorithm': 'SAMME'}\n",
      "Elapsed Time: 00:01:12\n",
      "====================\n"
     ]
    }
   ],
   "source": [
    "best_models, best_scores = fine_tune_models()"
   ]
  },
  {
   "cell_type": "code",
   "execution_count": 35,
   "id": "48129359-1503-460e-966c-47b739e10b8c",
   "metadata": {},
   "outputs": [
    {
     "data": {
      "text/plain": [
       "[0.8268514801433309, 0.8252844457966356, 0.8200040742623423]"
      ]
     },
     "execution_count": 35,
     "metadata": {},
     "output_type": "execute_result"
    }
   ],
   "source": [
    "best_scores"
   ]
  },
  {
   "cell_type": "code",
   "execution_count": 64,
   "id": "66facee9-7bfc-4d50-b3d6-559eeb853180",
   "metadata": {},
   "outputs": [],
   "source": [
    "best_model = best_models[np.argmax(best_scores)]"
   ]
  },
  {
   "cell_type": "code",
   "execution_count": 69,
   "id": "c044499e-c1e5-4ce5-956d-50eb05656f88",
   "metadata": {},
   "outputs": [
    {
     "data": {
      "text/html": [
       "<style>#sk-container-id-4 {color: black;background-color: white;}#sk-container-id-4 pre{padding: 0;}#sk-container-id-4 div.sk-toggleable {background-color: white;}#sk-container-id-4 label.sk-toggleable__label {cursor: pointer;display: block;width: 100%;margin-bottom: 0;padding: 0.3em;box-sizing: border-box;text-align: center;}#sk-container-id-4 label.sk-toggleable__label-arrow:before {content: \"▸\";float: left;margin-right: 0.25em;color: #696969;}#sk-container-id-4 label.sk-toggleable__label-arrow:hover:before {color: black;}#sk-container-id-4 div.sk-estimator:hover label.sk-toggleable__label-arrow:before {color: black;}#sk-container-id-4 div.sk-toggleable__content {max-height: 0;max-width: 0;overflow: hidden;text-align: left;background-color: #f0f8ff;}#sk-container-id-4 div.sk-toggleable__content pre {margin: 0.2em;color: black;border-radius: 0.25em;background-color: #f0f8ff;}#sk-container-id-4 input.sk-toggleable__control:checked~div.sk-toggleable__content {max-height: 200px;max-width: 100%;overflow: auto;}#sk-container-id-4 input.sk-toggleable__control:checked~label.sk-toggleable__label-arrow:before {content: \"▾\";}#sk-container-id-4 div.sk-estimator input.sk-toggleable__control:checked~label.sk-toggleable__label {background-color: #d4ebff;}#sk-container-id-4 div.sk-label input.sk-toggleable__control:checked~label.sk-toggleable__label {background-color: #d4ebff;}#sk-container-id-4 input.sk-hidden--visually {border: 0;clip: rect(1px 1px 1px 1px);clip: rect(1px, 1px, 1px, 1px);height: 1px;margin: -1px;overflow: hidden;padding: 0;position: absolute;width: 1px;}#sk-container-id-4 div.sk-estimator {font-family: monospace;background-color: #f0f8ff;border: 1px dotted black;border-radius: 0.25em;box-sizing: border-box;margin-bottom: 0.5em;}#sk-container-id-4 div.sk-estimator:hover {background-color: #d4ebff;}#sk-container-id-4 div.sk-parallel-item::after {content: \"\";width: 100%;border-bottom: 1px solid gray;flex-grow: 1;}#sk-container-id-4 div.sk-label:hover label.sk-toggleable__label {background-color: #d4ebff;}#sk-container-id-4 div.sk-serial::before {content: \"\";position: absolute;border-left: 1px solid gray;box-sizing: border-box;top: 0;bottom: 0;left: 50%;z-index: 0;}#sk-container-id-4 div.sk-serial {display: flex;flex-direction: column;align-items: center;background-color: white;padding-right: 0.2em;padding-left: 0.2em;position: relative;}#sk-container-id-4 div.sk-item {position: relative;z-index: 1;}#sk-container-id-4 div.sk-parallel {display: flex;align-items: stretch;justify-content: center;background-color: white;position: relative;}#sk-container-id-4 div.sk-item::before, #sk-container-id-4 div.sk-parallel-item::before {content: \"\";position: absolute;border-left: 1px solid gray;box-sizing: border-box;top: 0;bottom: 0;left: 50%;z-index: -1;}#sk-container-id-4 div.sk-parallel-item {display: flex;flex-direction: column;z-index: 1;position: relative;background-color: white;}#sk-container-id-4 div.sk-parallel-item:first-child::after {align-self: flex-end;width: 50%;}#sk-container-id-4 div.sk-parallel-item:last-child::after {align-self: flex-start;width: 50%;}#sk-container-id-4 div.sk-parallel-item:only-child::after {width: 0;}#sk-container-id-4 div.sk-dashed-wrapped {border: 1px dashed gray;margin: 0 0.4em 0.5em 0.4em;box-sizing: border-box;padding-bottom: 0.4em;background-color: white;}#sk-container-id-4 div.sk-label label {font-family: monospace;font-weight: bold;display: inline-block;line-height: 1.2em;}#sk-container-id-4 div.sk-label-container {text-align: center;}#sk-container-id-4 div.sk-container {/* jupyter's `normalize.less` sets `[hidden] { display: none; }` but bootstrap.min.css set `[hidden] { display: none !important; }` so we also need the `!important` here to be able to override the default hidden behavior on the sphinx rendered scikit-learn.org. See: https://github.com/scikit-learn/scikit-learn/issues/21755 */display: inline-block !important;position: relative;}#sk-container-id-4 div.sk-text-repr-fallback {display: none;}</style><div id=\"sk-container-id-4\" class=\"sk-top-container\"><div class=\"sk-text-repr-fallback\"><pre>RandomForestClassifier(bootstrap=False, criterion=&#x27;entropy&#x27;, max_depth=5,\n",
       "                       random_state=42)</pre><b>In a Jupyter environment, please rerun this cell to show the HTML representation or trust the notebook. <br />On GitHub, the HTML representation is unable to render, please try loading this page with nbviewer.org.</b></div><div class=\"sk-container\" hidden><div class=\"sk-item\"><div class=\"sk-estimator sk-toggleable\"><input class=\"sk-toggleable__control sk-hidden--visually\" id=\"sk-estimator-id-4\" type=\"checkbox\" checked><label for=\"sk-estimator-id-4\" class=\"sk-toggleable__label sk-toggleable__label-arrow\">RandomForestClassifier</label><div class=\"sk-toggleable__content\"><pre>RandomForestClassifier(bootstrap=False, criterion=&#x27;entropy&#x27;, max_depth=5,\n",
       "                       random_state=42)</pre></div></div></div></div></div>"
      ],
      "text/plain": [
       "RandomForestClassifier(bootstrap=False, criterion='entropy', max_depth=5,\n",
       "                       random_state=42)"
      ]
     },
     "execution_count": 69,
     "metadata": {},
     "output_type": "execute_result"
    }
   ],
   "source": [
    "best_model.fit(X,y)"
   ]
  },
  {
   "cell_type": "code",
   "execution_count": 70,
   "id": "a7fa152a-2f40-4eac-825f-8fcbe8b12848",
   "metadata": {},
   "outputs": [
    {
     "data": {
      "text/plain": [
       "array([0., 0., 0., 1., 0., 0., 0., 1., 0., 0., 0., 0., 0., 0., 0., 0., 0.,\n",
       "       0., 1., 0., 0., 1., 0., 0., 0., 0., 1., 0., 1., 0., 0., 0., 0., 0.,\n",
       "       0., 0., 0., 0., 0., 0., 0., 0., 0., 0., 0., 1., 0., 0., 0., 0., 0.,\n",
       "       0., 0., 0., 0., 0., 0., 0., 0., 0., 0., 0., 0., 0., 0., 0., 0., 0.,\n",
       "       0., 0., 0., 0., 0., 0., 1., 1., 1., 0., 0., 0., 0., 0., 0., 0., 0.,\n",
       "       0., 1., 0., 0., 0., 1., 1., 0., 1., 0., 0., 1., 0., 1., 0., 1., 0.,\n",
       "       0., 1., 0., 0., 1., 0., 0., 0., 0., 0., 0., 0., 0., 0., 0., 0., 0.,\n",
       "       0., 0., 0., 0., 0., 0., 0., 1., 0., 1., 0., 0., 0., 0., 0., 0., 0.,\n",
       "       1., 0., 0., 0., 0., 0., 0., 0., 0., 0., 0., 0., 0., 0., 0., 0., 0.,\n",
       "       0., 0., 1., 0., 1., 1., 1., 1., 1., 1., 1., 0., 0., 0., 1., 1., 0.,\n",
       "       1., 1., 0., 1., 1., 1., 0., 1., 0., 1., 1., 1., 1., 1., 1., 1., 1.,\n",
       "       1., 0., 1., 0., 0., 1., 1., 1., 0., 1., 1., 1., 1., 1., 1., 1., 1.,\n",
       "       1., 0., 1., 0., 1., 1., 1., 1., 0., 1., 1., 0., 1., 1., 0., 1., 1.,\n",
       "       1., 1., 0., 1., 1., 1., 1., 1., 1., 1., 0., 0., 0., 1., 1., 1., 1.,\n",
       "       1., 1., 1., 1., 1., 1., 1., 1., 1., 1., 1., 0., 1., 0., 1., 0., 0.,\n",
       "       1., 0., 1., 1., 1., 1., 0., 1., 1., 1., 0., 0., 1., 0., 1., 1., 0.,\n",
       "       0., 1., 1., 0., 0., 1., 0., 1., 1., 1., 1., 1., 0., 0., 0., 0., 1.,\n",
       "       0., 1., 1., 1., 1., 1., 0., 1.])"
      ]
     },
     "execution_count": 70,
     "metadata": {},
     "output_type": "execute_result"
    }
   ],
   "source": [
    "best_model.predict(X)"
   ]
  },
  {
   "cell_type": "code",
   "execution_count": 72,
   "id": "c90042b7-4db6-4603-9ebd-d506e416bba3",
   "metadata": {},
   "outputs": [],
   "source": [
    "import pickle\n",
    "FILENAME = 'MODEL'"
   ]
  },
  {
   "cell_type": "code",
   "execution_count": 75,
   "id": "030a2a5b-8371-4012-ab36-d1f70c1a0d15",
   "metadata": {},
   "outputs": [],
   "source": [
    "with open(FILENAME,'wb') as file:\n",
    "    pickle.dump(best_model, file)"
   ]
  },
  {
   "cell_type": "code",
   "execution_count": 76,
   "id": "d6762abc-eee8-46a4-b739-acbfda5475e9",
   "metadata": {},
   "outputs": [],
   "source": [
    "with open(FILENAME,'rb') as file:\n",
    "    model = pickle.load(file)"
   ]
  },
  {
   "cell_type": "code",
   "execution_count": 77,
   "id": "844fc2fe-cf54-49ef-9a58-400daf5bc5b2",
   "metadata": {},
   "outputs": [
    {
     "data": {
      "text/html": [
       "<style>#sk-container-id-5 {color: black;background-color: white;}#sk-container-id-5 pre{padding: 0;}#sk-container-id-5 div.sk-toggleable {background-color: white;}#sk-container-id-5 label.sk-toggleable__label {cursor: pointer;display: block;width: 100%;margin-bottom: 0;padding: 0.3em;box-sizing: border-box;text-align: center;}#sk-container-id-5 label.sk-toggleable__label-arrow:before {content: \"▸\";float: left;margin-right: 0.25em;color: #696969;}#sk-container-id-5 label.sk-toggleable__label-arrow:hover:before {color: black;}#sk-container-id-5 div.sk-estimator:hover label.sk-toggleable__label-arrow:before {color: black;}#sk-container-id-5 div.sk-toggleable__content {max-height: 0;max-width: 0;overflow: hidden;text-align: left;background-color: #f0f8ff;}#sk-container-id-5 div.sk-toggleable__content pre {margin: 0.2em;color: black;border-radius: 0.25em;background-color: #f0f8ff;}#sk-container-id-5 input.sk-toggleable__control:checked~div.sk-toggleable__content {max-height: 200px;max-width: 100%;overflow: auto;}#sk-container-id-5 input.sk-toggleable__control:checked~label.sk-toggleable__label-arrow:before {content: \"▾\";}#sk-container-id-5 div.sk-estimator input.sk-toggleable__control:checked~label.sk-toggleable__label {background-color: #d4ebff;}#sk-container-id-5 div.sk-label input.sk-toggleable__control:checked~label.sk-toggleable__label {background-color: #d4ebff;}#sk-container-id-5 input.sk-hidden--visually {border: 0;clip: rect(1px 1px 1px 1px);clip: rect(1px, 1px, 1px, 1px);height: 1px;margin: -1px;overflow: hidden;padding: 0;position: absolute;width: 1px;}#sk-container-id-5 div.sk-estimator {font-family: monospace;background-color: #f0f8ff;border: 1px dotted black;border-radius: 0.25em;box-sizing: border-box;margin-bottom: 0.5em;}#sk-container-id-5 div.sk-estimator:hover {background-color: #d4ebff;}#sk-container-id-5 div.sk-parallel-item::after {content: \"\";width: 100%;border-bottom: 1px solid gray;flex-grow: 1;}#sk-container-id-5 div.sk-label:hover label.sk-toggleable__label {background-color: #d4ebff;}#sk-container-id-5 div.sk-serial::before {content: \"\";position: absolute;border-left: 1px solid gray;box-sizing: border-box;top: 0;bottom: 0;left: 50%;z-index: 0;}#sk-container-id-5 div.sk-serial {display: flex;flex-direction: column;align-items: center;background-color: white;padding-right: 0.2em;padding-left: 0.2em;position: relative;}#sk-container-id-5 div.sk-item {position: relative;z-index: 1;}#sk-container-id-5 div.sk-parallel {display: flex;align-items: stretch;justify-content: center;background-color: white;position: relative;}#sk-container-id-5 div.sk-item::before, #sk-container-id-5 div.sk-parallel-item::before {content: \"\";position: absolute;border-left: 1px solid gray;box-sizing: border-box;top: 0;bottom: 0;left: 50%;z-index: -1;}#sk-container-id-5 div.sk-parallel-item {display: flex;flex-direction: column;z-index: 1;position: relative;background-color: white;}#sk-container-id-5 div.sk-parallel-item:first-child::after {align-self: flex-end;width: 50%;}#sk-container-id-5 div.sk-parallel-item:last-child::after {align-self: flex-start;width: 50%;}#sk-container-id-5 div.sk-parallel-item:only-child::after {width: 0;}#sk-container-id-5 div.sk-dashed-wrapped {border: 1px dashed gray;margin: 0 0.4em 0.5em 0.4em;box-sizing: border-box;padding-bottom: 0.4em;background-color: white;}#sk-container-id-5 div.sk-label label {font-family: monospace;font-weight: bold;display: inline-block;line-height: 1.2em;}#sk-container-id-5 div.sk-label-container {text-align: center;}#sk-container-id-5 div.sk-container {/* jupyter's `normalize.less` sets `[hidden] { display: none; }` but bootstrap.min.css set `[hidden] { display: none !important; }` so we also need the `!important` here to be able to override the default hidden behavior on the sphinx rendered scikit-learn.org. See: https://github.com/scikit-learn/scikit-learn/issues/21755 */display: inline-block !important;position: relative;}#sk-container-id-5 div.sk-text-repr-fallback {display: none;}</style><div id=\"sk-container-id-5\" class=\"sk-top-container\"><div class=\"sk-text-repr-fallback\"><pre>RandomForestClassifier(bootstrap=False, criterion=&#x27;entropy&#x27;, max_depth=5,\n",
       "                       random_state=42)</pre><b>In a Jupyter environment, please rerun this cell to show the HTML representation or trust the notebook. <br />On GitHub, the HTML representation is unable to render, please try loading this page with nbviewer.org.</b></div><div class=\"sk-container\" hidden><div class=\"sk-item\"><div class=\"sk-estimator sk-toggleable\"><input class=\"sk-toggleable__control sk-hidden--visually\" id=\"sk-estimator-id-5\" type=\"checkbox\" checked><label for=\"sk-estimator-id-5\" class=\"sk-toggleable__label sk-toggleable__label-arrow\">RandomForestClassifier</label><div class=\"sk-toggleable__content\"><pre>RandomForestClassifier(bootstrap=False, criterion=&#x27;entropy&#x27;, max_depth=5,\n",
       "                       random_state=42)</pre></div></div></div></div></div>"
      ],
      "text/plain": [
       "RandomForestClassifier(bootstrap=False, criterion='entropy', max_depth=5,\n",
       "                       random_state=42)"
      ]
     },
     "execution_count": 77,
     "metadata": {},
     "output_type": "execute_result"
    }
   ],
   "source": [
    "model"
   ]
  },
  {
   "cell_type": "code",
   "execution_count": null,
   "id": "e6966e15-a225-4e38-9fd9-ba1e3e55fb20",
   "metadata": {},
   "outputs": [
    {
     "data": {
      "text/plain": [
       "array([0., 0., 0., 1., 0., 0., 0., 1., 0., 0., 0., 0., 0., 0., 0., 0., 0.,\n",
       "       0., 1., 0., 0., 1., 0., 0., 0., 0., 1., 0., 1., 0., 0., 0., 0., 0.,\n",
       "       0., 0., 0., 0., 0., 0., 0., 0., 0., 0., 0., 1., 0., 0., 0., 0., 0.,\n",
       "       0., 0., 0., 0., 0., 0., 0., 0., 0., 0., 0., 0., 0., 0., 0., 0., 0.,\n",
       "       0., 0., 0., 0., 0., 0., 1., 1., 1., 0., 0., 0., 0., 0., 0., 0., 0.,\n",
       "       0., 1., 0., 0., 0., 1., 1., 0., 1., 0., 0., 1., 0., 1., 0., 1., 0.,\n",
       "       0., 1., 0., 0., 1., 0., 0., 0., 0., 0., 0., 0., 0., 0., 0., 0., 0.,\n",
       "       0., 0., 0., 0., 0., 0., 0., 1., 0., 1., 0., 0., 0., 0., 0., 0., 0.,\n",
       "       1., 0., 0., 0., 0., 0., 0., 0., 0., 0., 0., 0., 0., 0., 0., 0., 0.,\n",
       "       0., 0., 1., 0., 1., 1., 1., 1., 1., 1., 1., 0., 0., 0., 1., 1., 0.,\n",
       "       1., 1., 0., 1., 1., 1., 0., 1., 0., 1., 1., 1., 1., 1., 1., 1., 1.,\n",
       "       1., 0., 1., 0., 0., 1., 1., 1., 0., 1., 1., 1., 1., 1., 1., 1., 1.,\n",
       "       1., 0., 1., 0., 1., 1., 1., 1., 0., 1., 1., 0., 1., 1., 0., 1., 1.,\n",
       "       1., 1., 0., 1., 1., 1., 1., 1., 1., 1., 0., 0., 0., 1., 1., 1., 1.,\n",
       "       1., 1., 1., 1., 1., 1., 1., 1., 1., 1., 1., 0., 1., 0., 1., 0., 0.,\n",
       "       1., 0., 1., 1., 1., 1., 0., 1., 1., 1., 0., 0., 1., 0., 1., 1., 0.,\n",
       "       0., 1., 1., 0., 0., 1., 0., 1., 1., 1., 1., 1., 0., 0., 0., 0., 1.,\n",
       "       0., 1., 1., 1., 1., 1., 0., 1.])"
      ]
     },
     "execution_count": 78,
     "metadata": {},
     "output_type": "execute_result"
    }
   ],
   "source": [
    "model.predict(X)"
   ]
  },
  {
   "cell_type": "code",
   "execution_count": null,
   "id": "b2a952df-01bb-477c-b6b3-23d8a47cde6d",
   "metadata": {},
   "outputs": [],
   "source": []
  }
 ],
 "metadata": {
  "kernelspec": {
   "display_name": "Python 3 (ipykernel)",
   "language": "python",
   "name": "python3"
  },
  "language_info": {
   "codemirror_mode": {
    "name": "ipython",
    "version": 3
   },
   "file_extension": ".py",
   "mimetype": "text/x-python",
   "name": "python",
   "nbconvert_exporter": "python",
   "pygments_lexer": "ipython3",
   "version": "3.10.6"
  }
 },
 "nbformat": 4,
 "nbformat_minor": 5
}
